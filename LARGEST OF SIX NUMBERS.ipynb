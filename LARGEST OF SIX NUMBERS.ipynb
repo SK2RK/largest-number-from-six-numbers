{
 "cells": [
  {
   "cell_type": "code",
   "execution_count": 1,
   "id": "41829da6",
   "metadata": {},
   "outputs": [],
   "source": [
    "###finding the largest number among the given numbers"
   ]
  },
  {
   "cell_type": "code",
   "execution_count": 3,
   "id": "0a6f56c2",
   "metadata": {},
   "outputs": [
    {
     "name": "stdout",
     "output_type": "stream",
     "text": [
      "Type any six numbers of your choice to find the largest number from the six numbers\n",
      "i1 = 5\n",
      "i2 = 4\n",
      "i3 = 8\n",
      "i4 = 7\n",
      "i5 = 5\n",
      "i6 = 4\n",
      "The largest number among the six given numbers is 8\n"
     ]
    }
   ],
   "source": [
    "num = [\"i1\", \"i2\", \"i3\", \"i4\", \"i5\", \"i6\"]\n",
    "print(\"Type any six numbers of your choice to find the largest number from the six numbers\")\n",
    "num[0] = input(\"i1 = \")\n",
    "num[1] = input(\"i2 = \")\n",
    "num[2] = input(\"i3 = \")\n",
    "num[3] = input(\"i4 = \")\n",
    "num[4] = input(\"i5 = \")\n",
    "num[5] = input(\"i6 = \")\n",
    "if num[0]==num[1] and num[1] ==num[2] and num[2] == num[3] and num[3] == num[4] and num[4] == num[5]:\n",
    "    print(\"All the numbers are equal to each other\")\n",
    "else:\n",
    "    j = 0\n",
    "    largest = 0 \n",
    "    while j <=5:\n",
    "        if int(largest) < int(num[j]):\n",
    "            largest = int(num[j])\n",
    "            j = j + 1\n",
    "        elif int(largest) > int(num[j]):\n",
    "            j = j + 1\n",
    "print(\"The largest number among the six given numbers is\", largest)\n",
    "            \n",
    "            \n",
    "        \n",
    "        \n",
    "        \n",
    "    \n"
   ]
  },
  {
   "cell_type": "code",
   "execution_count": null,
   "id": "0b3f1af7",
   "metadata": {},
   "outputs": [],
   "source": []
  }
 ],
 "metadata": {
  "kernelspec": {
   "display_name": "Python 3 (ipykernel)",
   "language": "python",
   "name": "python3"
  },
  "language_info": {
   "codemirror_mode": {
    "name": "ipython",
    "version": 3
   },
   "file_extension": ".py",
   "mimetype": "text/x-python",
   "name": "python",
   "nbconvert_exporter": "python",
   "pygments_lexer": "ipython3",
   "version": "3.9.7"
  }
 },
 "nbformat": 4,
 "nbformat_minor": 5
}
